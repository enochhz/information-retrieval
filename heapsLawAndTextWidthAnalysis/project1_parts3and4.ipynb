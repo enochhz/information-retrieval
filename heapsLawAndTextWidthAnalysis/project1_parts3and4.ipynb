{
 "cells": [
  {
   "cell_type": "markdown",
   "metadata": {},
   "source": [
    "## CS 5180: Information Retrieval Project 1 Parts (3 & 4)\n",
    "Directory paths need to be adjusted corresponding to user's environment."
   ]
  },
  {
   "cell_type": "code",
   "execution_count": 1,
   "metadata": {},
   "outputs": [],
   "source": [
    "import nltk\n",
    "import matplotlib\n",
    "import matplotlib.pyplot as plt\n",
    "import os\n",
    "from PIL import ImageFont"
   ]
  },
  {
   "cell_type": "code",
   "execution_count": 2,
   "metadata": {},
   "outputs": [],
   "source": [
    "def getTotalWordCount(words: list) -> int:\n",
    "    return (len(words))\n",
    "\n",
    "def getDistinctWordCount(words: list) -> int:\n",
    "    distinct_words = {}\n",
    "    for i in range(len(words)):\n",
    "        if words[i] not in distinct_words:\n",
    "            distinct_words[words[i]] = 0\n",
    "        distinct_words[words[i]] += 1\n",
    "    return (len(distinct_words))"
   ]
  },
  {
   "cell_type": "code",
   "execution_count": 3,
   "metadata": {},
   "outputs": [],
   "source": [
    "# path - directory\n",
    "# lang - the language types: en, es, & ch\n",
    "def getWords(path: str, lang: str) -> list:\n",
    "    # original file opening function\n",
    "    file = open(path, encoding=\"utf-8\")\n",
    "    \n",
    "    text = file.read()\n",
    "    file.close()\n",
    "    \n",
    "    # split into words\n",
    "    from nltk.tokenize import word_tokenize\n",
    "    tokens = word_tokenize(text)\n",
    "    \n",
    "    # strip tokens of unecessary symbols & lower case all tokens\n",
    "    excess = '_*~`@'\n",
    "    tokens = [token.strip(excess) for token in tokens]\n",
    "    tokens = [token.lower() for token in tokens]\n",
    "\n",
    "    # chinese(ch) is the only language exception for processing\n",
    "    if lang == 'ch':\n",
    "        return tokens\n",
    "    \n",
    "    # remove all tokens that are not alphabetic (for other languages)\n",
    "    words = [word for word in tokens if word.isalpha()]\n",
    "    \n",
    "    return words"
   ]
  },
  {
   "cell_type": "code",
   "execution_count": 4,
   "metadata": {},
   "outputs": [],
   "source": [
    "# directory - path\n",
    "def get_html_files(directory) -> list:\n",
    "    paths = []\n",
    "    for filename in os.listdir(directory):\n",
    "        if filename.endswith('.html') or filename.endswith('.txt'):\n",
    "            paths.append(os.path.join(directory, filename))\n",
    "    return paths"
   ]
  },
  {
   "cell_type": "code",
   "execution_count": 5,
   "metadata": {},
   "outputs": [],
   "source": [
    "# Returns x & y values for graph plotting\n",
    "# paths - list of directories\n",
    "# lang - language types: en, es, & ch\n",
    "def getValuesForProcessedWords(paths: list, lang: str) -> list:\n",
    "    graphValues = []\n",
    "    for i in range(len(paths)):\n",
    "        # get the English words\n",
    "        wordList = getWords(paths[i], lang)\n",
    "        # get the values for the Heap's law graph\n",
    "        distinctValue = getDistinctWordCount(wordList)\n",
    "        totalValue = getTotalWordCount(wordList)\n",
    "        graphValues.append((distinctValue, totalValue))\n",
    "\n",
    "    return graphValues"
   ]
  },
  {
   "cell_type": "code",
   "execution_count": 29,
   "metadata": {},
   "outputs": [
    {
     "name": "stdout",
     "output_type": "stream",
     "text": [
      "English (distinct words, total words):\n",
      "\n",
      "[(11, 12), (33, 43), (113, 190), (18, 18), (668, 1792), (37, 48), (44, 57), (94, 153), (240, 460), (256, 606), (50, 58), (44, 57), (208, 389), (44, 57), (30, 38), (73, 95), (85, 134), (0, 0), (1810, 6446), (301, 705), (18, 18), (18, 18), (18, 18), (16, 17), (80, 106), (37, 44), (44, 57), (2, 2), (0, 0), (187, 366), (174, 338), (182, 731), (0, 0), (1162, 7610), (30, 36), (4, 4), (4, 4), (4, 4), (4, 4), (4, 4), (18, 18), (364, 647), (218, 381), (360, 765), (289, 569), (204, 455), (404, 942), (175, 289), (242, 471), (160, 319), (195, 347), (293, 605), (128, 274), (240, 366), (211, 382), (153, 280), (718, 1760), (147, 249), (263, 491), (150, 254), (118, 200), (473, 1087), (2, 2), (385, 670), (408, 692), (345, 625), (343, 679), (316, 661), (344, 696), (367, 694), (499, 1227), (341, 692), (377, 782), (345, 692), (352, 625), (394, 644), (0, 0), (16, 17), (16, 17), (16, 17), (16, 17), (16, 17), (16, 17), (917, 5556), (16, 17), (16, 17), (16, 17), (16, 17), (20, 21), (53, 71), (16, 27), (116, 212), (176, 311), (133, 232), (436, 1022), (284, 534), (41, 53), (0, 0), (230, 464), (285, 581), (411, 864), (0, 0)]\n",
      "Spanish (distinct words, total words):\n",
      "\n",
      "[(384, 743), (5, 6), (5, 6), (8, 10), (46, 58), (46, 58), (46, 58), (92, 125), (119, 196), (211, 383), (242, 406), (9, 11), (54, 70), (4, 4), (87, 127), (80, 112), (50, 86), (9, 9), (9, 9), (8, 8), (1, 1), (229, 433), (16, 17), (27, 28), (0, 0), (82, 110), (0, 0), (212, 466), (549, 1557), (167, 290), (553, 1323), (553, 1323), (13, 35), (13, 35), (473, 997), (130, 251), (20, 29), (42, 57), (185, 485), (42, 57), (123, 322), (134, 228), (74, 144), (29, 35), (53, 72), (478, 1637), (0, 0), (2, 2), (2, 2), (3, 3), (8, 8), (46, 56), (1, 1), (1, 1), (1, 1), (1, 1), (1, 1), (217, 414), (15, 15), (115, 559), (19, 20), (22, 27), (217, 414), (16, 19), (21, 21), (287, 652), (82, 110), (147, 236), (32, 42), (16, 20), (16, 20), (21, 21), (82, 110), (25, 29), (25, 29), (25, 29), (25, 29), (174, 317), (27, 36), (4, 4), (4, 4), (13, 13), (4, 4), (32, 35), (32, 158), (20, 31), (32, 41), (1521, 4684), (1521, 4684), (1521, 4684), (1521, 4684), (1521, 4684), (55, 62), (32, 38), (152, 269), (67, 101), (38, 45), (270, 557), (261, 474), (35, 46), (189, 339), (25, 29), (100, 174), (2, 2), (2, 2), (2, 2), (2, 2), (2, 2), (2, 2), (2, 2), (2, 2), (2, 2), (58, 73), (46, 60), (52, 68), (23, 25), (179, 316), (6, 6), (166, 294), (89, 132), (510, 1793), (2, 2), (56, 87), (313, 581), (313, 581), (4, 4), (80, 125), (201, 389), (201, 389), (185, 394), (102, 164), (40, 51)]\n",
      "Chinese (distinct words, total words):\n",
      "\n",
      "[(173, 344), (147, 232), (150, 227), (308, 616), (133, 210), (134, 221), (122, 326), (141, 230), (143, 232), (141, 230), (161, 346), (131, 202), (131, 214), (162, 440), (139, 226), (170, 232), (11, 12), (136, 211), (141, 218), (244, 551), (134, 215), (134, 215), (134, 215), (144, 217), (144, 217), (144, 217), (135, 226), (169, 417), (101, 167), (121, 204), (125, 218), (121, 214), (120, 213), (122, 215), (122, 215), (32, 49), (32, 49), (118, 201), (32, 49), (32, 49), (32, 49), (32, 49), (32, 49), (191, 388), (131, 291), (124, 217), (136, 243), (136, 243), (122, 215), (122, 215), (122, 215), (126, 219), (118, 189), (123, 206), (53, 99), (135, 224), (187, 339), (79, 132), (158, 255), (160, 257), (158, 255), (158, 255), (275, 636), (359, 729), (134, 225), (133, 224), (75, 420), (124, 201), (136, 212), (134, 210), (130, 206), (124, 200), (128, 204), (129, 217), (127, 213), (129, 215), (129, 215), (118, 214), (158, 250), (81, 173), (88, 130), (108, 135), (97, 148), (106, 183), (189, 390), (142, 223), (142, 223), (142, 223), (142, 223), (155, 388), (130, 211), (379, 906), (129, 211), (133, 217), (272, 558)]\n"
     ]
    }
   ],
   "source": [
    "# printing to console for project 1 report\n",
    "paths = r'C:\\Users\\Johnson\\Desktop\\5180\\project1\\html_files\\en'\n",
    "en_paths = get_html_files(paths)\n",
    "print('English (distinct words, total words):\\n')\n",
    "print(getValuesForProcessedWords(en_paths, 'en'))\n",
    "\n",
    "paths = r'C:\\Users\\Johnson\\Desktop\\5180\\project1\\html_files\\es'\n",
    "es_paths = get_html_files(paths)\n",
    "print('Spanish (distinct words, total words):\\n')\n",
    "print(getValuesForProcessedWords(es_paths, 'es'))\n",
    "\n",
    "paths = r'C:\\Users\\Johnson\\Desktop\\5180\\project1\\html_files\\ch'\n",
    "ch_paths = get_html_files(paths)\n",
    "print('Chinese (distinct words, total words):\\n')\n",
    "print(getValuesForProcessedWords(ch_paths, 'ch'))"
   ]
  },
  {
   "cell_type": "markdown",
   "metadata": {},
   "source": [
    "# Part3:\n",
    "Go through file and count distinct words and total word counts\n",
    "Plot x & y graph of the distinct words vs. total word counts"
   ]
  },
  {
   "cell_type": "code",
   "execution_count": 6,
   "metadata": {},
   "outputs": [],
   "source": [
    "# for plotting xy graph\n",
    "# paths - list of directories\n",
    "# limit - the max range to include in graph (used to ignore outliers)\n",
    "def plotHeapsLawGraph(paths: list, lang: str, limit: int) -> None:\n",
    "    graphValues = getValuesForProcessedWords(paths, lang)\n",
    "    # distinct words in vocab\n",
    "    yValues = []\n",
    "    # total words in collection\n",
    "    xValues = []\n",
    "    \n",
    "    for i in range(len(graphValues)):\n",
    "        if graphValues[i][1] <= limit: # this is the x axis value\n",
    "            yValues.append(graphValues[i][0])\n",
    "            xValues.append(graphValues[i][1])\n",
    "\n",
    "    plt.plot([xValues],[yValues],'ro')\n",
    "    plt.xlabel('total words in collection', fontsize=15)\n",
    "    plt.ylabel('distinct words in vocab', fontsize=15)\n",
    "    plt.gca().set_aspect('equal', adjustable='box')\n",
    "    plt.show()"
   ]
  },
  {
   "cell_type": "code",
   "execution_count": 10,
   "metadata": {},
   "outputs": [
    {
     "data": {
      "image/png": "[encoded data removed]",
      "text/plain": [
       "<Figure size 432x288 with 1 Axes>"
      ]
     },
     "metadata": {
      "needs_background": "light"
     },
     "output_type": "display_data"
    },
    {
     "data": {
      "image/png": "[encoded data removed]",
      "text/plain": [
       "<Figure size 432x288 with 1 Axes>"
      ]
     },
     "metadata": {
      "needs_background": "light"
     },
     "output_type": "display_data"
    },
    {
     "data": {
      "image/png": "[encoded data removed]",
      "text/plain": [
       "<Figure size 432x288 with 1 Axes>"
      ]
     },
     "metadata": {
      "needs_background": "light"
     },
     "output_type": "display_data"
    }
   ],
   "source": [
    "limit = 2500\n",
    "\n",
    "# produce graphs to see if Heap's law is present\n",
    "paths = r'C:\\Users\\Johnson\\Desktop\\5180\\project1\\html_files\\en'\n",
    "en_paths = get_html_files(paths)\n",
    "plotHeapsLawGraph(en_paths, 'en', limit)\n",
    "\n",
    "paths = r'C:\\Users\\Johnson\\Desktop\\5180\\project1\\html_files\\es'\n",
    "es_paths = get_html_files(paths)\n",
    "plotHeapsLawGraph(es_paths, 'es', limit)\n",
    "\n",
    "paths = r'C:\\Users\\Johnson\\Desktop\\5180\\project1\\html_files\\ch'\n",
    "ch_paths = get_html_files(paths)\n",
    "plotHeapsLawGraph(ch_paths, 'ch', limit)"
   ]
  },
  {
   "cell_type": "code",
   "execution_count": 7,
   "metadata": {},
   "outputs": [
    {
     "data": {
      "image/png": "[encoded data removed]",
      "text/plain": [
       "<Figure size 432x288 with 1 Axes>"
      ]
     },
     "metadata": {
      "needs_background": "light"
     },
     "output_type": "display_data"
    },
    {
     "data": {
      "image/png": "[encoded data removed]",
      "text/plain": [
       "<Figure size 432x288 with 1 Axes>"
      ]
     },
     "metadata": {
      "needs_background": "light"
     },
     "output_type": "display_data"
    },
    {
     "data": {
      "image/png": "[encoded data removed]",
      "text/plain": [
       "<Figure size 432x288 with 1 Axes>"
      ]
     },
     "metadata": {
      "needs_background": "light"
     },
     "output_type": "display_data"
    }
   ],
   "source": [
    "limit = 8000\n",
    "\n",
    "# produce graphs to see if Heap's law is present\n",
    "paths = r'C:\\Users\\Johnson\\Desktop\\5180\\project1\\html_files\\en'\n",
    "en_paths = get_html_files(paths)\n",
    "plotHeapsLawGraph(en_paths, 'en', limit)\n",
    "\n",
    "paths = r'C:\\Users\\Johnson\\Desktop\\5180\\project1\\html_files\\es'\n",
    "es_paths = get_html_files(paths)\n",
    "plotHeapsLawGraph(es_paths, 'es', limit)\n",
    "\n",
    "paths = r'C:\\Users\\Johnson\\Desktop\\5180\\project1\\html_files\\ch'\n",
    "ch_paths = get_html_files(paths)\n",
    "plotHeapsLawGraph(ch_paths, 'ch', limit)"
   ]
  },
  {
   "cell_type": "markdown",
   "metadata": {},
   "source": [
    "### Using the ImageFont module function: getsize\n",
    "printed values represent (width, height) of font in pixel values."
   ]
  },
  {
   "cell_type": "code",
   "execution_count": 19,
   "metadata": {},
   "outputs": [
    {
     "name": "stdout",
     "output_type": "stream",
     "text": [
      "(28, 11)\n",
      "(27, 11)\n",
      "(27, 11)\n",
      "(70, 11)\n"
     ]
    }
   ],
   "source": [
    "font = ImageFont.truetype('times.ttf', 12)\n",
    "en_size = font.getsize(u'views')\n",
    "ch_size = font.getsize(u'次檢視')\n",
    "sp_size = font.getsize(u'vistas')\n",
    "test_size = font.getsize(u'visualizzazioni')\n",
    "print(en_size)\n",
    "print(ch_size)\n",
    "print(sp_size)\n",
    "print(test_size)"
   ]
  },
  {
   "cell_type": "markdown",
   "metadata": {},
   "source": [
    "# Part4:\n",
    "Go through files and calculate pixel width for each file. \n",
    "Get averages of text width."
   ]
  },
  {
   "cell_type": "code",
   "execution_count": 21,
   "metadata": {},
   "outputs": [],
   "source": [
    "# words - contains a list of words\n",
    "def getTextPixelWidth(words: list) -> int:\n",
    "    word_size = 0\n",
    "    \n",
    "    # empty space character is 3px\n",
    "    empty_space_pixel = 3 \n",
    "    \n",
    "    # declare type of font\n",
    "    font = ImageFont.truetype('times.ttf', 12)\n",
    "    \n",
    "    for i in range(len(words)):\n",
    "        new_word_size = font.getsize(words[i])\n",
    "        word_size += new_word_size[0] + empty_space_pixel\n",
    "    \n",
    "    # take out trailing empty space character pixel only if word size is greater than zero \n",
    "    if word_size > 0:\n",
    "        word_size -= empty_space_pixel\n",
    "    return word_size"
   ]
  },
  {
   "cell_type": "code",
   "execution_count": 22,
   "metadata": {},
   "outputs": [],
   "source": [
    "# paths - a list of directories\n",
    "def getAverageTextPixelWidth(paths: list, lang: str) -> float:\n",
    "    # stores the total px width of each file\n",
    "    pixel_widths = []\n",
    "    \n",
    "    total_files = len(paths)\n",
    "    \n",
    "    if total_files == 0:\n",
    "        raise ValueError('total_files must be greater than 0, otherwise div by 0 can occur')\n",
    "         \n",
    "    for i in range(len(paths)):\n",
    "        word_size = 0\n",
    "        words = getWords(paths[i], lang)\n",
    "        pixel_widths.append(getTextPixelWidth(words))\n",
    "    \n",
    "    total_sum = 0\n",
    "    for i in range(len(pixel_widths)):\n",
    "        total_sum += pixel_widths[i]\n",
    "    \n",
    "    return (total_sum / total_files)"
   ]
  },
  {
   "cell_type": "code",
   "execution_count": 22,
   "metadata": {},
   "outputs": [
    {
     "name": "stdout",
     "output_type": "stream",
     "text": [
      "9724.14393939394\n"
     ]
    }
   ],
   "source": [
    "# Spanish\n",
    "paths = r'C:\\Users\\Johnson\\Desktop\\5180\\project1\\html_files\\es'\n",
    "paths = get_html_files(paths)\n",
    "print(getAverageTextPixelWidth(paths, 'es'))"
   ]
  },
  {
   "cell_type": "code",
   "execution_count": 23,
   "metadata": {},
   "outputs": [
    {
     "name": "stdout",
     "output_type": "stream",
     "text": [
      "5031.663157894737\n"
     ]
    }
   ],
   "source": [
    "# Chinese\n",
    "paths = r'C:\\Users\\Johnson\\Desktop\\5180\\project1\\html_files\\ch'\n",
    "paths = get_html_files(paths)\n",
    "print(getAverageTextPixelWidth(paths, 'ch'))"
   ]
  },
  {
   "cell_type": "code",
   "execution_count": 24,
   "metadata": {},
   "outputs": [
    {
     "name": "stdout",
     "output_type": "stream",
     "text": [
      "14195.901960784313\n"
     ]
    }
   ],
   "source": [
    "# English\n",
    "paths = r'C:\\Users\\Johnson\\Desktop\\5180\\project1\\html_files\\en'\n",
    "paths = get_html_files(paths)\n",
    "print(getAverageTextPixelWidth(paths, 'en'))"
   ]
  },
  {
   "cell_type": "markdown",
   "metadata": {},
   "source": [
    "## Demonstrates comparison between English, Spanish, and Chinese for a small sample text file.\n",
    "Results are the pixel width of the entire text passage."
   ]
  },
  {
   "cell_type": "code",
   "execution_count": 26,
   "metadata": {},
   "outputs": [
    {
     "name": "stdout",
     "output_type": "stream",
     "text": [
      "2277\n",
      "4068\n",
      "4244\n"
     ]
    }
   ],
   "source": [
    "# choose a file from each language with relatively the same file size.\n",
    "pathEnglish = r'C:\\Users\\Johnson\\Desktop\\5180\\project1\\text_files\\sampleEnglish.txt'\n",
    "pathSpanish = r'C:\\Users\\Johnson\\Desktop\\5180\\project1\\text_files\\sampleSpanish.txt'\n",
    "pathChinese = r'C:\\Users\\Johnson\\Desktop\\5180\\project1\\text_files\\sampleChinese.txt'\n",
    "\n",
    "# print(getWords(pathEnglish))\n",
    "# print(getWords(pathSpanish))\n",
    "# print(getChineseWords(pathChinese))\n",
    "\n",
    "words = getWords(pathChinese, 'ch')\n",
    "px_width = getTextPixelWidth(words)\n",
    "print(px_width)\n",
    "\n",
    "words = getWords(pathEnglish, 'en')\n",
    "px_width = getTextPixelWidth(words)\n",
    "print(px_width)\n",
    "\n",
    "words = getWords(pathSpanish, 'es')\n",
    "px_width = getTextPixelWidth(words)\n",
    "print(px_width)"
   ]
  },
  {
   "cell_type": "code",
   "execution_count": 23,
   "metadata": {},
   "outputs": [],
   "source": [
    "# paths - a list of directories\n",
    "# lang - indicates type of language\n",
    "def getValuesForPlottingTextWidth(paths: list, lang: str) -> list:\n",
    "    graphValues = []\n",
    "    for i in range(len(paths)):\n",
    "        words = getWords(paths[i], lang)\n",
    "        width = getTextPixelWidth(words)\n",
    "        totalWordCount = getTotalWordCount(words)\n",
    "        graphValues.append((totalWordCount, width))\n",
    "    return graphValues\n",
    "         \n",
    "def plotGraphTextWidth(values: list, lang: str) -> None:\n",
    "    # width sizes\n",
    "    yValues = []\n",
    "    # total word counts\n",
    "    xValues = [] \n",
    "    graphValues = getValuesForPlottingTextWidth(values, lang)\n",
    "    \n",
    "    for i in range((len(graphValues))):\n",
    "        yValues.append(graphValues[i][1])\n",
    "        xValues.append(graphValues[i][0])\n",
    "    \n",
    "    plt.plot([xValues],[yValues],'ro')\n",
    "    plt.xlabel('total words in collection', fontsize=15)\n",
    "    plt.ylabel('text width size', fontsize=15)\n",
    "#     plt.gca().set_aspect('equal', adjustable='box')\n",
    "    plt.show()"
   ]
  },
  {
   "cell_type": "code",
   "execution_count": 26,
   "metadata": {},
   "outputs": [
    {
     "name": "stdout",
     "output_type": "stream",
     "text": [
      "English (total words, text width size):\n",
      "\n",
      "[(12, 427), (43, 1123), (190, 5370), (18, 544), (1792, 51927), (48, 1403), (57, 1646), (153, 4198), (460, 12331), (606, 17786), (58, 1599), (57, 1646), (389, 11160), (57, 1646), (38, 1058), (95, 2688), (134, 3476), (0, 0), (6446, 180159), (705, 20191), (18, 544), (18, 544), (18, 544), (17, 482), (106, 2765), (44, 1244), (57, 1646), (2, 58), (0, 0), (366, 11089), (338, 10177), (731, 21000), (0, 0), (7610, 220482), (36, 1059), (4, 129), (4, 129), (4, 129), (4, 129), (4, 129), (18, 544), (647, 17570), (381, 11148), (765, 22076), (569, 15368), (455, 12410), (942, 25102), (289, 8308), (471, 13845), (319, 8536), (347, 9208), (605, 16451), (274, 7211), (366, 10362), (382, 10300), (280, 7624), (1760, 48551), (249, 6536), (491, 14307), (254, 7402), (200, 5326), (1087, 28894), (2, 81), (670, 18233), (692, 18813), (625, 17829), (679, 18779), (661, 18323), (696, 19470), (694, 20169), (1227, 33326), (692, 19254), (782, 22220), (692, 19184), (625, 17292), (644, 17798), (0, 0), (17, 471), (17, 471), (17, 471), (17, 471), (17, 471), (17, 471), (5556, 157931), (17, 471), (17, 471), (17, 471), (17, 471), (21, 564), (71, 1990), (27, 747), (212, 5921), (311, 9252), (232, 6996), (1022, 30055), (534, 15570), (53, 1475), (0, 0), (464, 12831), (581, 16444), (864, 23007), (0, 0)]\n",
      "Spanish (total words, text width size):\n",
      "\n",
      "[(743, 20905), (6, 143), (6, 143), (10, 268), (58, 1697), (58, 1697), (58, 1697), (125, 3645), (196, 5759), (383, 11009), (406, 11407), (11, 198), (70, 1990), (4, 121), (127, 4042), (112, 3252), (86, 2697), (9, 223), (9, 185), (8, 213), (1, 42), (433, 13024), (17, 506), (28, 855), (0, 0), (110, 3131), (0, 0), (466, 13530), (1557, 45517), (290, 8762), (1323, 40072), (1323, 40072), (35, 1134), (35, 1182), (997, 25624), (251, 7817), (29, 760), (57, 1505), (485, 13470), (57, 1505), (322, 9050), (228, 6879), (144, 3686), (35, 1112), (72, 2165), (1637, 51243), (0, 0), (2, 66), (2, 66), (3, 95), (8, 261), (56, 1522), (1, 51), (1, 42), (1, 42), (1, 42), (1, 42), (414, 12633), (15, 377), (559, 17705), (20, 605), (27, 733), (414, 12633), (19, 575), (21, 701), (652, 18527), (110, 3131), (236, 7268), (42, 1449), (20, 482), (20, 482), (21, 651), (110, 3131), (29, 794), (29, 794), (29, 794), (29, 794), (317, 9855), (36, 1016), (4, 125), (4, 125), (13, 420), (4, 125), (35, 1044), (158, 4331), (31, 1009), (41, 1053), (4684, 120332), (4684, 120332), (4684, 120332), (4684, 120332), (4684, 120332), (62, 1916), (38, 990), (269, 6616), (101, 2655), (45, 1447), (557, 15418), (474, 13321), (46, 1326), (339, 9537), (29, 794), (174, 5339), (2, 68), (2, 68), (2, 68), (2, 68), (2, 68), (2, 68), (2, 68), (2, 68), (2, 68), (73, 2437), (60, 1637), (68, 1743), (25, 637), (316, 8436), (6, 236), (294, 8324), (132, 3409), (1793, 50857), (2, 52), (87, 2509), (581, 15617), (581, 15617), (4, 121), (125, 3415), (389, 10219), (389, 10219), (394, 10796), (164, 4691), (51, 1468)]\n",
      "Chinese (total words, text width size):\n",
      "\n",
      "[(344, 8696), (232, 4314), (227, 4223), (616, 11560), (210, 4118), (221, 4227), (326, 5513), (230, 4259), (232, 4265), (230, 4259), (346, 6205), (202, 4080), (214, 4237), (440, 7959), (226, 3952), (232, 6332), (12, 377), (211, 3831), (218, 3852), (551, 9732), (215, 3982), (215, 3982), (215, 3982), (217, 3885), (217, 3885), (217, 3885), (226, 4091), (417, 7131), (167, 3022), (204, 4152), (218, 4259), (214, 4247), (213, 4255), (215, 4261), (215, 4261), (49, 1002), (49, 1002), (201, 4132), (49, 1002), (49, 1002), (49, 1002), (49, 1002), (49, 1002), (388, 46861), (291, 5111), (217, 4267), (243, 4682), (243, 4682), (215, 4261), (215, 4261), (215, 4261), (219, 4301), (189, 4018), (206, 4145), (99, 1893), (224, 4191), (339, 6395), (132, 2804), (255, 4435), (257, 4441), (255, 4435), (255, 4435), (636, 11876), (729, 13093), (225, 4230), (224, 4227), (420, 7801), (201, 3988), (212, 4021), (210, 4015), (206, 4003), (200, 3985), (204, 3997), (217, 4112), (213, 4100), (215, 4106), (215, 4106), (214, 4243), (250, 4278), (173, 3246), (130, 2275), (135, 2970), (148, 2792), (183, 3775), (390, 6764), (223, 4159), (223, 4159), (223, 4159), (223, 4159), (388, 6775), (211, 4102), (906, 16103), (211, 4072), (217, 4090), (558, 9931)]\n"
     ]
    }
   ],
   "source": [
    "# show our (total words, text width size) pairs\n",
    "en_paths = r'C:\\Users\\Johnson\\Desktop\\5180\\project1\\html_files\\en'\n",
    "es_paths = r'C:\\Users\\Johnson\\Desktop\\5180\\project1\\html_files\\es'\n",
    "ch_paths = r'C:\\Users\\Johnson\\Desktop\\5180\\project1\\html_files\\ch'\n",
    "\n",
    "paths = get_html_files(en_paths)\n",
    "print('English (total words, text width size):\\n')\n",
    "en_pairs = getValuesForPlottingTextWidth(paths, 'en')\n",
    "print(en_pairs)\n",
    "\n",
    "paths = get_html_files(es_paths)\n",
    "print('Spanish (total words, text width size):\\n')\n",
    "es_pairs = getValuesForPlottingTextWidth(paths, 'es')\n",
    "print(es_pairs)\n",
    "\n",
    "paths = get_html_files(ch_paths)\n",
    "print('Chinese (total words, text width size):\\n')\n",
    "ch_pairs = getValuesForPlottingTextWidth(paths, 'ch')\n",
    "print(ch_pairs)"
   ]
  },
  {
   "cell_type": "code",
   "execution_count": 12,
   "metadata": {},
   "outputs": [
    {
     "data": {
      "image/png": "[encoded data removed]",
      "text/plain": [
       "<Figure size 432x288 with 1 Axes>"
      ]
     },
     "metadata": {
      "needs_background": "light"
     },
     "output_type": "display_data"
    }
   ],
   "source": [
    "# produce graphs of total word counts vs. width sizes\n",
    "paths = r'C:\\Users\\Johnson\\Desktop\\5180\\project1\\html_files\\en'\n",
    "en_paths = get_html_files(paths)\n",
    "plotGraphTextWidth(en_paths, 'en')"
   ]
  },
  {
   "cell_type": "code",
   "execution_count": 13,
   "metadata": {},
   "outputs": [
    {
     "data": {
      "image/png": "[encoded data removed]",
      "text/plain": [
       "<Figure size 432x288 with 1 Axes>"
      ]
     },
     "metadata": {
      "needs_background": "light"
     },
     "output_type": "display_data"
    }
   ],
   "source": [
    "paths = r'C:\\Users\\Johnson\\Desktop\\5180\\project1\\html_files\\es'\n",
    "en_paths = get_html_files(paths)\n",
    "plotGraphTextWidth(en_paths, 'es')"
   ]
  },
  {
   "cell_type": "code",
   "execution_count": 14,
   "metadata": {},
   "outputs": [
    {
     "data": {
      "image/png": "[encoded data removed]",
      "text/plain": [
       "<Figure size 432x288 with 1 Axes>"
      ]
     },
     "metadata": {
      "needs_background": "light"
     },
     "output_type": "display_data"
    }
   ],
   "source": [
    "paths = r'C:\\Users\\Johnson\\Desktop\\5180\\project1\\html_files\\ch'\n",
    "en_paths = get_html_files(paths)\n",
    "plotGraphTextWidth(en_paths, 'ch')"
   ]
  },
  {
   "cell_type": "code",
   "execution_count": null,
   "metadata": {},
   "outputs": [],
   "source": []
  }
 ],
 "metadata": {
  "kernelspec": {
   "display_name": "Python 3",
   "language": "python",
   "name": "python3"
  },
  "language_info": {
   "codemirror_mode": {
    "name": "ipython",
    "version": 3
   },
   "file_extension": ".py",
   "mimetype": "text/x-python",
   "name": "python",
   "nbconvert_exporter": "python",
   "pygments_lexer": "ipython3",
   "version": "3.7.4"
  }
 },
 "nbformat": 4,
 "nbformat_minor": 2
}
